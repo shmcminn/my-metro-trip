{
 "cells": [
  {
   "cell_type": "code",
   "execution_count": 41,
   "metadata": {},
   "outputs": [],
   "source": [
    "import requests\n",
    "import json\n",
    "import copy"
   ]
  },
  {
   "cell_type": "code",
   "execution_count": 42,
   "metadata": {},
   "outputs": [],
   "source": [
    "stop_16_euclid_south_id = \"1002874\"\n",
    "stop_16_harvard_south_id = \"1002873\"\n",
    "stop_columbia_quarry_south_id = \"1003225\""
   ]
  },
  {
   "cell_type": "markdown",
   "metadata": {},
   "source": [
    "## get api keys"
   ]
  },
  {
   "cell_type": "code",
   "execution_count": 27,
   "metadata": {},
   "outputs": [],
   "source": [
    "key_names = [\"metro_primary\", \"metro_secondary\"]\n",
    "key_values = {}\n",
    "\n",
    "with open(\"api_keys.txt\", \"r\") as ofile:\n",
    "    key_lines = ofile.read().split(\"\\n\")\n",
    "    for key_name in key_names:\n",
    "        for key_line in key_lines:\n",
    "            if key_name in key_line:\n",
    "                key_values[key_name] = key_line.replace(key_name + \": \", \"\")"
   ]
  },
  {
   "cell_type": "markdown",
   "metadata": {},
   "source": [
    "## get times for next bus"
   ]
  },
  {
   "cell_type": "code",
   "execution_count": 45,
   "metadata": {},
   "outputs": [],
   "source": [
    "morning_searches = [stop_16_euclid_south_id, stop_16_harvard_south_id, stop_columbia_quarry_south_id]\n",
    "morning_routes = [\"S9\", \"S4\", \"S2\", \"S1\", \"43\", \"42\"]"
   ]
  },
  {
   "cell_type": "code",
   "execution_count": 54,
   "metadata": {},
   "outputs": [
    {
     "name": "stdout",
     "output_type": "stream",
     "text": [
      "{'RouteID': 'S9', 'DirectionText': 'South to Franklin Square', 'DirectionNum': '1', 'Minutes': 8, 'VehicleID': '6444', 'TripID': '6336'}\n",
      "{'RouteID': 'S4', 'DirectionText': 'South to Federal Triangle', 'DirectionNum': '1', 'Minutes': 14, 'VehicleID': '5466', 'TripID': '109090'}\n",
      "{'RouteID': 'S9', 'DirectionText': 'South to Franklin Square', 'DirectionNum': '1', 'Minutes': 15, 'VehicleID': '6435', 'TripID': '6116'}\n",
      "{'RouteID': 'S2', 'DirectionText': 'South to Federal Triangle', 'DirectionNum': '1', 'Minutes': 21, 'VehicleID': '5479', 'TripID': '109138'}\n",
      "{'RouteID': 'S9', 'DirectionText': 'South to Franklin Square', 'DirectionNum': '1', 'Minutes': 22, 'VehicleID': '6452', 'TripID': '6112'}\n",
      "{'RouteID': 'S4', 'DirectionText': 'South to Federal Triangle', 'DirectionNum': '1', 'Minutes': 38, 'VehicleID': '5465', 'TripID': '109086'}\n",
      "{'RouteID': 'S4', 'DirectionText': 'South to Federal Triangle', 'DirectionNum': '1', 'Minutes': 13, 'VehicleID': '5466', 'TripID': '109090'}\n",
      "{'RouteID': 'S2', 'DirectionText': 'South to Federal Triangle', 'DirectionNum': '1', 'Minutes': 20, 'VehicleID': '5479', 'TripID': '109138'}\n",
      "{'RouteID': 'S4', 'DirectionText': 'South to Federal Triangle', 'DirectionNum': '1', 'Minutes': 37, 'VehicleID': '5465', 'TripID': '109086'}\n",
      "{'RouteID': '42', 'DirectionText': 'South to Gallery Place', 'DirectionNum': '1', 'Minutes': 12, 'VehicleID': '2527', 'TripID': '83612'}\n",
      "{'RouteID': '42', 'DirectionText': 'South to Gallery Place', 'DirectionNum': '1', 'Minutes': 19, 'VehicleID': '7139', 'TripID': '83620'}\n",
      "{'RouteID': '42', 'DirectionText': 'South to Gallery Place', 'DirectionNum': '1', 'Minutes': 37, 'VehicleID': '6497', 'TripID': '83604'}\n"
     ]
    }
   ],
   "source": [
    "route_data = {}\n",
    "\n",
    "for stop_id in morning_searches:\n",
    "    predict_endpoint = 'https://api.wmata.com/NextBusService.svc/json/jPredictions?StopID={ID}'\n",
    "    resp = requests.get(predict_endpoint.replace(\"{ID}\", stop_id), params={\"api_key\": key_values['metro_primary']})\n",
    "    json_resp_text_predictions = json.loads(resp.text)[\"Predictions\"]\n",
    "    for prediction in json_resp_text_predictions:\n",
    "        print(prediction)\n",
    "        if prediction[\"RouteID\"] in morning_routes:\n",
    "            try:\n",
    "                if prediction[\"Minutes\"] < route_data[prediction[\"RouteID\"]]:\n",
    "                    route_data[prediction[\"RouteID\"]] = prediction[\"Minutes\"]\n",
    "            except:\n",
    "                route_data[prediction[\"RouteID\"]] = prediction[\"Minutes\"]\n",
    "\n"
   ]
  },
  {
   "cell_type": "markdown",
   "metadata": {},
   "source": [
    "## figure out which to take"
   ]
  },
  {
   "cell_type": "code",
   "execution_count": 55,
   "metadata": {},
   "outputs": [
    {
     "data": {
      "text/plain": [
       "{'S9': 8, 'S4': 13, 'S2': 20, '42': 12, 'S1': 9999999, '43': 9999999}"
      ]
     },
     "execution_count": 55,
     "metadata": {},
     "output_type": "execute_result"
    }
   ],
   "source": [
    "route_data_copy = copy.deepcopy(route_data)\n",
    "\n",
    "\n",
    "for route in morning_routes:\n",
    "    if route not in list(route_data.keys()):\n",
    "        route_data_copy[route] = 9999999\n",
    "        \n",
    "route_data_copy"
   ]
  },
  {
   "cell_type": "code",
   "execution_count": 59,
   "metadata": {},
   "outputs": [
    {
     "name": "stdout",
     "output_type": "stream",
     "text": [
      "uh oh, you're gonna be waiting a while\n",
      "Best:\n",
      "S9 8\n"
     ]
    }
   ],
   "source": [
    "def get_best_route():\n",
    "    if route_data_copy[\"43\"] < 3:\n",
    "        print(\"Best:\")\n",
    "        print(\"43\", route_data_copy[\"43\"])\n",
    "    elif route_data_copy[\"42\"] < 3:\n",
    "        print(\"Best:\")\n",
    "        print(\"42\", route_data_copy[\"42\"])\n",
    "    elif route_data_copy[\"S9\"] < 6:\n",
    "        print(\"Best:\")\n",
    "        print(\"S9\", route_data_copy[\"S9\"])\n",
    "    elif route_data_copy[\"S2\"] < 10 or route_data_copy[\"S4\"] < 10 or route_data_copy[\"S1\"] < 10:\n",
    "        print(\"Best:\")\n",
    "        print(\"S2\", route_data_copy[\"S2\"])\n",
    "        print(\"S4\", route_data_copy[\"S4\"])\n",
    "        print(\"S1\", route_data_copy[\"S1\"])\n",
    "    else:\n",
    "        print(\"uh oh, you're gonna be waiting a while\")\n",
    "        print(\"Best:\")\n",
    "        shortest_route = min(route_data_copy, key=route_data_copy.get)\n",
    "        print(shortest_route, route_data_copy[shortest_route])\n",
    "    \n",
    "get_best_route()"
   ]
  },
  {
   "cell_type": "code",
   "execution_count": null,
   "metadata": {},
   "outputs": [],
   "source": []
  }
 ],
 "metadata": {
  "kernelspec": {
   "display_name": "Python 3",
   "language": "python",
   "name": "python3"
  },
  "language_info": {
   "codemirror_mode": {
    "name": "ipython",
    "version": 3
   },
   "file_extension": ".py",
   "mimetype": "text/x-python",
   "name": "python",
   "nbconvert_exporter": "python",
   "pygments_lexer": "ipython3",
   "version": "3.6.5"
  }
 },
 "nbformat": 4,
 "nbformat_minor": 2
}
