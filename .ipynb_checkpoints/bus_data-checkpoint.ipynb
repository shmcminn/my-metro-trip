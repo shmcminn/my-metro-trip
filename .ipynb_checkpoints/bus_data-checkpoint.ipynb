{
 "cells": [
  {
   "cell_type": "code",
   "execution_count": 1,
   "metadata": {},
   "outputs": [],
   "source": [
    "import requests\n",
    "import json"
   ]
  },
  {
   "cell_type": "code",
   "execution_count": 2,
   "metadata": {},
   "outputs": [],
   "source": [
    "stop_16_euclid_south_id = \"1002874\"\n",
    "stop_16_harvard_south_id = \"1002873\"\n",
    "stop_columbia_quarry_south_id = \"1003225\""
   ]
  },
  {
   "cell_type": "markdown",
   "metadata": {},
   "source": [
    "## get api keys"
   ]
  },
  {
   "cell_type": "code",
   "execution_count": 27,
   "metadata": {},
   "outputs": [],
   "source": [
    "key_names = [\"metro_primary\", \"metro_secondary\"]\n",
    "key_values = {}\n",
    "\n",
    "with open(\"api_keys.txt\", \"r\") as ofile:\n",
    "    key_lines = ofile.read().split(\"\\n\")\n",
    "    for key_name in key_names:\n",
    "        for key_line in key_lines:\n",
    "            if key_name in key_line:\n",
    "                key_values[key_name] = key_line.replace(key_name + \": \", \"\")"
   ]
  },
  {
   "cell_type": "code",
   "execution_count": null,
   "metadata": {},
   "outputs": [],
   "source": []
  },
  {
   "cell_type": "code",
   "execution_count": null,
   "metadata": {},
   "outputs": [],
   "source": []
  }
 ],
 "metadata": {
  "kernelspec": {
   "display_name": "Python 3",
   "language": "python",
   "name": "python3"
  },
  "language_info": {
   "codemirror_mode": {
    "name": "ipython",
    "version": 3
   },
   "file_extension": ".py",
   "mimetype": "text/x-python",
   "name": "python",
   "nbconvert_exporter": "python",
   "pygments_lexer": "ipython3",
   "version": "3.6.5"
  }
 },
 "nbformat": 4,
 "nbformat_minor": 2
}
